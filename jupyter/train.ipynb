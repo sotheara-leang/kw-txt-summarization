{
 "cells": [
  {
   "cell_type": "code",
   "execution_count": 1,
   "metadata": {},
   "outputs": [],
   "source": [
    "import sys\n",
    "\n",
    "sys.path.insert(0, '..')"
   ]
  },
  {
   "cell_type": "code",
   "execution_count": 2,
   "metadata": {},
   "outputs": [],
   "source": [
    "from main.train import *\n",
    "from main.common.common import *"
   ]
  },
  {
   "cell_type": "code",
   "execution_count": 3,
   "metadata": {},
   "outputs": [
    {
     "name": "stdout",
     "output_type": "stream",
     "text": [
      "2019-05-25 21:13:18 MainThread   DEBUG SimpleVocab:22 - initialize vocabulary from: /Users/Sotheara/PycharmProjects/kw-txt-summarization/data/extract/vocab.txt\n",
      "2019-05-25 21:13:19 MainThread   DEBUG GloveEmbedding:14 - initialize embedding from: /Users/Sotheara/PycharmProjects/kw-txt-summarization/data/extract/embedding.bin\n",
      "2019-05-25 21:13:22 MainThread   DEBUG      Train:537 - >>> configuration: \n",
      "dec-hidden-size: 100\n",
      "device: cpu\n",
      "emb-file: data/extract/embedding.bin\n",
      "emb-size: 50\n",
      "enc-hidden-size: 50\n",
      "eval:\n",
      "  article-file: data/test/test.article.txt\n",
      "  batch-size: 3\n",
      "  keyword-file: data/test/test.keyword.txt\n",
      "  load-model-file: data/target/model-ml-50.ckpt\n",
      "  log-batch: true\n",
      "  log-batch-interval: 1\n",
      "  summary-file: data/test/test.summary.txt\n",
      "logging:\n",
      "  conf-file: null\n",
      "  enable: true\n",
      "max-dec-steps: 500\n",
      "max-enc-steps: 800\n",
      "model-file: data/target/model-ml-50.ckpt\n",
      "pointer-generator: true\n",
      "share-dec-weight: true\n",
      "train:\n",
      "  article-file: data/extract/validation.article.txt\n",
      "  batch-size: 2\n",
      "  clip-gradient-max-norm: null\n",
      "  epoch: 51\n",
      "  eval: true\n",
      "  keyword-file: data/extract/validation.keyword.txt\n",
      "  load-model-file: data/target/model-ml-50.ckpt\n",
      "  log-batch: true\n",
      "  log-batch-interval: 1\n",
      "  lr: 0.0001\n",
      "  lr-decay: 0.7\n",
      "  lr-decay-epoch: 50\n",
      "  ml:\n",
      "    enable: true\n",
      "    forcing-decay: 0\n",
      "    forcing-ratio: 1\n",
      "  rl:\n",
      "    enable: false\n",
      "    transit-decay: 0\n",
      "    transit-epoch: 1\n",
      "    weight: 0.7\n",
      "  save-model-file: data/result/model-ml.ckpt\n",
      "  save-model-per-epoch: 1\n",
      "  summary-file: data/extract/validation.summary.txt\n",
      "  tb:\n",
      "    enable: false\n",
      "    log-dir: /Users/Sotheara/PycharmProjects/kw-txt-summarization/logs/cnn/\n",
      "vocab-file: data/extract/vocab.txt\n",
      "vocab-size: 39004\n",
      "2019-05-25 21:13:22 MainThread   DEBUG      Train:487 - >>> load pre-trained model from: /Users/Sotheara/PycharmProjects/kw-txt-summarization/data/target/model-ml-50.ckpt\n",
      "2019-05-25 21:13:22 MainThread   DEBUG      Train:498 - epoch: 50\n",
      "2019-05-25 21:13:22 MainThread   DEBUG      Train:499 - loss: 0.5772431658373939\n",
      "2019-05-25 21:13:22 MainThread   DEBUG      Train:334 - >>> training:\n",
      "2019-05-25 21:13:22 MainThread   DEBUG      Train:342 - ========================= epoch 51/51 =========================\n",
      "2019-05-25 21:13:28 MainThread   DEBUG      Train:375 - EP\t51,\tBAT\t1:\tloss=0.360,\tml-loss=0.360,\trl-loss=0.000,\treward=0.000,\ttime=0:00:05.634795\n",
      "2019-05-25 21:13:36 MainThread   DEBUG      Train:375 - EP\t51,\tBAT\t2:\tloss=0.781,\tml-loss=0.781,\trl-loss=0.000,\treward=0.000,\ttime=0:00:08.252454\n",
      "2019-05-25 21:13:43 MainThread   DEBUG      Train:375 - EP\t51,\tBAT\t3:\tloss=0.262,\tml-loss=0.262,\trl-loss=0.000,\treward=0.000,\ttime=0:00:06.447062\n",
      "2019-05-25 21:13:51 MainThread   DEBUG      Train:375 - EP\t51,\tBAT\t4:\tloss=0.621,\tml-loss=0.621,\trl-loss=0.000,\treward=0.000,\ttime=0:00:08.035694\n",
      "2019-05-25 21:13:59 MainThread   DEBUG      Train:375 - EP\t51,\tBAT\t5:\tloss=0.594,\tml-loss=0.594,\trl-loss=0.000,\treward=0.000,\ttime=0:00:08.054483\n",
      "2019-05-25 21:14:08 MainThread   DEBUG      Train:375 - EP\t51,\tBAT\t6:\tloss=0.531,\tml-loss=0.531,\trl-loss=0.000,\treward=0.000,\ttime=0:00:09.427141\n",
      "2019-05-25 21:14:17 MainThread   DEBUG      Train:375 - EP\t51,\tBAT\t7:\tloss=0.606,\tml-loss=0.606,\trl-loss=0.000,\treward=0.000,\ttime=0:00:08.682789\n",
      "2019-05-25 21:14:29 MainThread   DEBUG      Train:375 - EP\t51,\tBAT\t8:\tloss=0.793,\tml-loss=0.793,\trl-loss=0.000,\treward=0.000,\ttime=0:00:12.399642\n",
      "2019-05-25 21:14:37 MainThread   DEBUG      Train:375 - EP\t51,\tBAT\t9:\tloss=0.284,\tml-loss=0.284,\trl-loss=0.000,\treward=0.000,\ttime=0:00:07.514908\n",
      "2019-05-25 21:14:37 MainThread   DEBUG      Train:396 - loss_avg\t=\t0.537\n",
      "2019-05-25 21:14:37 MainThread   DEBUG      Train:397 - ml-loss-avg\t=\t0.537\n",
      "2019-05-25 21:14:37 MainThread   DEBUG      Train:398 - rl-loss_avg\t=\t0.000,\t reward=0.000\n",
      "2019-05-25 21:14:37 MainThread   DEBUG      Train:399 - rl-loss_avg\t=\tNA\n",
      "2019-05-25 21:14:37 MainThread   DEBUG      Train:400 - time\t=\t0:01:14.448969\n",
      "2019-05-25 21:14:37 MainThread   DEBUG      Train:522 - >>> save model into: /Users/Sotheara/PycharmProjects/kw-txt-summarization/data/result/model-ml-51.ckpt\n",
      "2019-05-25 21:14:37 MainThread   DEBUG      Train:524 - epoch: 51\n",
      "2019-05-25 21:14:37 MainThread   DEBUG      Train:525 - loss: 0.5370037655035654\n",
      "2019-05-25 21:14:37 MainThread   DEBUG      Train:412 - time\t=\t0:01:15.255412\n",
      "2019-05-25 21:14:37 MainThread   DEBUG      Train:419 - >>> evaluation:\n",
      "2019-05-25 21:14:38 MainThread   DEBUG      Train:462 - BAT\t1:\t\tavg rouge_l score=0.904077\t\ttime=0:00:00.163315\n",
      "2019-05-25 21:14:38 MainThread   DEBUG      Train:462 - BAT\t2:\t\tavg rouge_l score=0.658683\t\ttime=0:00:00.158793\n",
      "2019-05-25 21:14:38 MainThread   DEBUG      Train:462 - BAT\t3:\t\tavg rouge_l score=0.789877\t\ttime=0:00:00.215318\n",
      "2019-05-25 21:14:38 MainThread   DEBUG      Train:462 - BAT\t4:\t\tavg rouge_l score=0.686812\t\ttime=0:00:00.186982\n",
      "2019-05-25 21:14:38 MainThread   DEBUG      Train:462 - BAT\t5:\t\tavg rouge_l score=0.880054\t\ttime=0:00:00.191169\n",
      "2019-05-25 21:14:39 MainThread   DEBUG      Train:462 - BAT\t6:\t\tavg rouge_l score=0.861697\t\ttime=0:00:00.166785\n",
      "2019-05-25 21:14:39 MainThread   DEBUG      Train:462 - BAT\t7:\t\tavg rouge_l score=0.878274\t\ttime=0:00:00.146085\n",
      "2019-05-25 21:14:39 MainThread   DEBUG      Train:462 - BAT\t8:\t\tavg rouge_l score=0.715046\t\ttime=0:00:00.252274\n",
      "2019-05-25 21:14:39 MainThread   DEBUG      Train:462 - BAT\t9:\t\tavg rouge_l score=0.742849\t\ttime=0:00:00.207545\n",
      "2019-05-25 21:14:39 MainThread   DEBUG      Train:473 - examples: 35\n",
      "2019-05-25 21:14:39 MainThread   DEBUG      Train:474 - avg rouge-l score: 0.790819\n",
      "2019-05-25 21:14:39 MainThread   DEBUG      Train:475 - time\t:\t0:00:01.701932\n"
     ]
    }
   ],
   "source": [
    "AppContext()\n",
    "\n",
    "train = Train()\n",
    "train.run()"
   ]
  }
 ],
 "metadata": {
  "kernelspec": {
   "display_name": "Python 3",
   "language": "python",
   "name": "python3"
  },
  "language_info": {
   "codemirror_mode": {
    "name": "ipython",
    "version": 3
   },
   "file_extension": ".py",
   "mimetype": "text/x-python",
   "name": "python",
   "nbconvert_exporter": "python",
   "pygments_lexer": "ipython3",
   "version": "3.7.0"
  }
 },
 "nbformat": 4,
 "nbformat_minor": 2
}
