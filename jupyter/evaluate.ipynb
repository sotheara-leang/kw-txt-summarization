{
 "cells": [
  {
   "cell_type": "code",
   "execution_count": 1,
   "metadata": {},
   "outputs": [],
   "source": [
    "import sys\n",
    "\n",
    "sys.path.insert(0, '..')"
   ]
  },
  {
   "cell_type": "code",
   "execution_count": 2,
   "metadata": {},
   "outputs": [],
   "source": [
    "from main.evaluate import Evaluate\n",
    "from main.common.common import *"
   ]
  },
  {
   "cell_type": "code",
   "execution_count": 3,
   "metadata": {},
   "outputs": [
    {
     "name": "stdout",
     "output_type": "stream",
     "text": [
      "2019-05-25 21:10:28 MainThread   DEBUG SimpleVocab:22 - initialize vocabulary from: /Users/Sotheara/PycharmProjects/kw-txt-summarization/data/extract/vocab.txt\n",
      "2019-05-25 21:10:29 MainThread   DEBUG   Evaluate:127 - >>> configuration: \n",
      "dec-hidden-size: 100\n",
      "device: cpu\n",
      "emb-file: data/extract/embedding.bin\n",
      "emb-size: 50\n",
      "enc-hidden-size: 50\n",
      "eval:\n",
      "  article-file: data/test/test.article.txt\n",
      "  batch-size: 3\n",
      "  keyword-file: data/test/test.keyword.txt\n",
      "  load-model-file: data/target/model-ml-50.ckpt\n",
      "  log-batch: true\n",
      "  log-batch-interval: 1\n",
      "  summary-file: data/test/test.summary.txt\n",
      "logging:\n",
      "  conf-file: null\n",
      "  enable: true\n",
      "max-dec-steps: 500\n",
      "max-enc-steps: 800\n",
      "model-file: data/target/model-ml-50.ckpt\n",
      "pointer-generator: true\n",
      "share-dec-weight: true\n",
      "train:\n",
      "  article-file: data/extract/validation.article.txt\n",
      "  batch-size: 2\n",
      "  clip-gradient-max-norm: null\n",
      "  epoch: 60\n",
      "  eval: true\n",
      "  keyword-file: data/extract/validation.keyword.txt\n",
      "  load-model-file: data/result/model-50.ckpt\n",
      "  log-batch: true\n",
      "  log-batch-interval: 1\n",
      "  lr: 0.0001\n",
      "  lr-decay: 0.7\n",
      "  lr-decay-epoch: 50\n",
      "  ml:\n",
      "    enable: false\n",
      "    forcing-decay: 0\n",
      "    forcing-ratio: 1\n",
      "  rl:\n",
      "    enable: true\n",
      "    transit-decay: 0\n",
      "    transit-epoch: 1\n",
      "    weight: 0.7\n",
      "  save-model-file: data/result/model.ckpt\n",
      "  save-model-per-epoch: 1\n",
      "  summary-file: data/extract/validation.summary.txt\n",
      "  tb:\n",
      "    enable: false\n",
      "    log-dir: /Users/Sotheara/PycharmProjects/kw-txt-summarization/logs/cnn/\n",
      "vocab-file: data/extract/vocab.txt\n",
      "vocab-size: 39004\n",
      "2019-05-25 21:10:29 MainThread   DEBUG   Evaluate:110 - >>> load pre-trained model from: /Users/Sotheara/PycharmProjects/kw-txt-summarization/data/target/model-ml-50.ckpt\n",
      "2019-05-25 21:10:29 MainThread   DEBUG   Evaluate:117 - epoch: 50\n",
      "2019-05-25 21:10:29 MainThread   DEBUG   Evaluate:118 - loss: 0.5772431658373939\n",
      "2019-05-25 21:10:29 MainThread   DEBUG   Evaluate:42 - >>> evaluation:\n",
      "2019-05-25 21:10:34 MainThread   DEBUG   Evaluate:88 - BAT\t1:\t\tavg rouge_l score=0.704\t\ttime=0:00:05.568860\n",
      "2019-05-25 21:10:35 MainThread   DEBUG   Evaluate:88 - BAT\t2:\t\tavg rouge_l score=0.759\t\ttime=0:00:00.220203\n",
      "2019-05-25 21:10:35 MainThread   DEBUG   Evaluate:88 - BAT\t3:\t\tavg rouge_l score=0.918\t\ttime=0:00:00.218809\n",
      "2019-05-25 21:10:35 MainThread   DEBUG   Evaluate:88 - BAT\t4:\t\tavg rouge_l score=0.642\t\ttime=0:00:00.190140\n",
      "2019-05-25 21:10:35 MainThread   DEBUG   Evaluate:88 - BAT\t5:\t\tavg rouge_l score=0.671\t\ttime=0:00:00.419238\n",
      "2019-05-25 21:10:36 MainThread   DEBUG   Evaluate:88 - BAT\t6:\t\tavg rouge_l score=0.736\t\ttime=0:00:00.255864\n",
      "2019-05-25 21:10:36 MainThread   DEBUG   Evaluate:99 - examples: 35\n",
      "2019-05-25 21:10:36 MainThread   DEBUG   Evaluate:100 - avg rouge-l score: 0.738413\n",
      "2019-05-25 21:10:36 MainThread   DEBUG   Evaluate:101 - time\t:\t0:00:06.882328\n"
     ]
    }
   ],
   "source": [
    "AppContext()\n",
    "\n",
    "evaluate = Evaluate()\n",
    "evaluate.run()"
   ]
  }
 ],
 "metadata": {
  "kernelspec": {
   "display_name": "Python 3",
   "language": "python",
   "name": "python3"
  },
  "language_info": {
   "codemirror_mode": {
    "name": "ipython",
    "version": 3
   },
   "file_extension": ".py",
   "mimetype": "text/x-python",
   "name": "python",
   "nbconvert_exporter": "python",
   "pygments_lexer": "ipython3",
   "version": "3.7.0"
  }
 },
 "nbformat": 4,
 "nbformat_minor": 2
}
